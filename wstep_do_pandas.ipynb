{
  "nbformat": 4,
  "nbformat_minor": 0,
  "metadata": {
    "colab": {
      "provenance": []
    },
    "kernelspec": {
      "name": "python3",
      "display_name": "Python 3"
    },
    "language_info": {
      "name": "python"
    }
  },
  "cells": [
    {
      "cell_type": "code",
      "execution_count": 1,
      "metadata": {
        "id": "axJo4_kin-te"
      },
      "outputs": [],
      "source": [
        "import pandas as pd\n",
        "import matplotlib.pyplot as plt\n",
        "\n",
        "# Ustawienia dla polskich znaków\n",
        "plt.rcParams['font.sans-serif'] = ['DejaVu Sans']"
      ]
    },
    {
      "cell_type": "markdown",
      "source": [
        "# **Wstęp do pandas**\n",
        "\n",
        "`Pandas` to biblioteka w Pythonie, która umożliwia łatwe i efektywne manipulowanie oraz analizowanie danych.\n",
        "\n",
        "Jest szczególnie przydatna do pracy z danymi tabelarycznymi, podobnymi do tych w arkuszach kalkulacyjnych."
      ],
      "metadata": {
        "id": "VUQf4pf-B8Xc"
      }
    },
    {
      "cell_type": "markdown",
      "source": [
        "## CZĘŚĆ 1: Tworzenie DataFrame z polskimi danymi"
      ],
      "metadata": {
        "id": "-psmyar2vZcl"
      }
    },
    {
      "cell_type": "code",
      "source": [
        "# Przykład 1: Dane o polskich miastach\n",
        "data_miasta = {\n",
        "    'Miasto': ['Warszawa', 'Kraków', 'Łódź', 'Wrocław', 'Poznań', 'Gdańsk', 'Szczecin'],\n",
        "    'Województwo': ['mazowieckie', 'małopolskie', 'łódzkie', 'dolnośląskie',\n",
        "                    'wielkopolskie', 'pomorskie', 'zachodniopomorskie'],\n",
        "    'Populacja': [1863056, 779966, 672185, 643782, 532048, 470907, 395513],\n",
        "    'Powierzchnia_km2': [517, 327, 293, 293, 262, 262, 301],\n",
        "    'Rok_nadania_praw': [1413, 1257, 1423, 1242, 1253, 1263, 1243]\n",
        "}\n",
        "\n",
        "miasta = pd.DataFrame(data_miasta)\n",
        "print(miasta)"
      ],
      "metadata": {
        "colab": {
          "base_uri": "https://localhost:8080/"
        },
        "id": "Ya8Ff5J1vfGu",
        "outputId": "80d19b82-5ecc-4dec-f8ac-41ec4d942d86"
      },
      "execution_count": 2,
      "outputs": [
        {
          "output_type": "stream",
          "name": "stdout",
          "text": [
            "     Miasto         Województwo  Populacja  Powierzchnia_km2  Rok_nadania_praw\n",
            "0  Warszawa         mazowieckie    1863056               517              1413\n",
            "1    Kraków         małopolskie     779966               327              1257\n",
            "2      Łódź             łódzkie     672185               293              1423\n",
            "3   Wrocław        dolnośląskie     643782               293              1242\n",
            "4    Poznań       wielkopolskie     532048               262              1253\n",
            "5    Gdańsk           pomorskie     470907               262              1263\n",
            "6  Szczecin  zachodniopomorskie     395513               301              1243\n"
          ]
        }
      ]
    },
    {
      "cell_type": "markdown",
      "source": [
        "## CZĘŚĆ 2: PODSTAWOWE METODY INSPEKCJI DANYCH"
      ],
      "metadata": {
        "id": "Q8-QyY_ZvyTD"
      }
    },
    {
      "cell_type": "code",
      "source": [
        "print(\">>> .head() - Pierwsze 5 wierszy (lub inna liczba)\")\n",
        "print(miasta.head(3))"
      ],
      "metadata": {
        "colab": {
          "base_uri": "https://localhost:8080/"
        },
        "id": "EUmSekXsv1Ql",
        "outputId": "ee8c9f27-477e-4b2e-bba7-6a921f1b9b76"
      },
      "execution_count": 3,
      "outputs": [
        {
          "output_type": "stream",
          "name": "stdout",
          "text": [
            ">>> .head() - Pierwsze 5 wierszy (lub inna liczba)\n",
            "     Miasto  Województwo  Populacja  Powierzchnia_km2  Rok_nadania_praw\n",
            "0  Warszawa  mazowieckie    1863056               517              1413\n",
            "1    Kraków  małopolskie     779966               327              1257\n",
            "2      Łódź      łódzkie     672185               293              1423\n"
          ]
        }
      ]
    },
    {
      "cell_type": "code",
      "source": [
        "print(\">>> .info() - Informacje o strukturze danych\")\n",
        "miasta.info()"
      ],
      "metadata": {
        "colab": {
          "base_uri": "https://localhost:8080/"
        },
        "id": "9e-Ro2pJv9Ed",
        "outputId": "67b9ba27-0528-437e-a8e2-af0ac840f890"
      },
      "execution_count": 4,
      "outputs": [
        {
          "output_type": "stream",
          "name": "stdout",
          "text": [
            ">>> .info() - Informacje o strukturze danych\n",
            "<class 'pandas.core.frame.DataFrame'>\n",
            "RangeIndex: 7 entries, 0 to 6\n",
            "Data columns (total 5 columns):\n",
            " #   Column            Non-Null Count  Dtype \n",
            "---  ------            --------------  ----- \n",
            " 0   Miasto            7 non-null      object\n",
            " 1   Województwo       7 non-null      object\n",
            " 2   Populacja         7 non-null      int64 \n",
            " 3   Powierzchnia_km2  7 non-null      int64 \n",
            " 4   Rok_nadania_praw  7 non-null      int64 \n",
            "dtypes: int64(3), object(2)\n",
            "memory usage: 412.0+ bytes\n"
          ]
        }
      ]
    },
    {
      "cell_type": "code",
      "source": [
        "print(\">>> .shape - Wymiary DataFrame (wiersze, kolumny)\")\n",
        "print(f\"Nasz DataFrame ma: {miasta.shape[0]} wierszy i {miasta.shape[1]} kolumn\")"
      ],
      "metadata": {
        "colab": {
          "base_uri": "https://localhost:8080/"
        },
        "id": "ao1MUs1Wv9Ny",
        "outputId": "febfcc4f-c159-4a52-83c4-cf20c0225e1b"
      },
      "execution_count": 5,
      "outputs": [
        {
          "output_type": "stream",
          "name": "stdout",
          "text": [
            ">>> .shape - Wymiary DataFrame (wiersze, kolumny)\n",
            "Nasz DataFrame ma: 7 wierszy i 5 kolumn\n"
          ]
        }
      ]
    },
    {
      "cell_type": "code",
      "source": [
        "print(\">>> .describe() - Statystyki opisowe dla kolumn numerycznych\")\n",
        "print(miasta.describe())"
      ],
      "metadata": {
        "colab": {
          "base_uri": "https://localhost:8080/"
        },
        "id": "Wz6fsZvNv9aI",
        "outputId": "4b61b81c-e139-4f49-82be-b344d3a55902"
      },
      "execution_count": 6,
      "outputs": [
        {
          "output_type": "stream",
          "name": "stdout",
          "text": [
            ">>> .describe() - Statystyki opisowe dla kolumn numerycznych\n",
            "          Populacja  Powierzchnia_km2  Rok_nadania_praw\n",
            "count  7.000000e+00          7.000000          7.000000\n",
            "mean   7.653510e+05        322.142857       1299.142857\n",
            "std    5.010882e+05         88.856492         81.581102\n",
            "min    3.955130e+05        262.000000       1242.000000\n",
            "25%    5.014775e+05        277.500000       1248.000000\n",
            "50%    6.437820e+05        293.000000       1257.000000\n",
            "75%    7.260755e+05        314.000000       1338.000000\n",
            "max    1.863056e+06        517.000000       1423.000000\n"
          ]
        }
      ]
    },
    {
      "cell_type": "code",
      "source": [
        "print(\">>> .columns - Nazwy kolumn\")\n",
        "print(miasta.columns.tolist())"
      ],
      "metadata": {
        "colab": {
          "base_uri": "https://localhost:8080/"
        },
        "id": "4cb6YFDTwEZh",
        "outputId": "91e1bd6c-39d4-4076-c305-143b28fbe6b5"
      },
      "execution_count": 7,
      "outputs": [
        {
          "output_type": "stream",
          "name": "stdout",
          "text": [
            ">>> .columns - Nazwy kolumn\n",
            "['Miasto', 'Województwo', 'Populacja', 'Powierzchnia_km2', 'Rok_nadania_praw']\n"
          ]
        }
      ]
    },
    {
      "cell_type": "code",
      "source": [
        "print(\">>> .index - Indeks wierszy\")\n",
        "print(miasta.index)"
      ],
      "metadata": {
        "colab": {
          "base_uri": "https://localhost:8080/"
        },
        "id": "umYrBBs6wIVf",
        "outputId": "b49369bf-9c94-47bf-c87b-7ce269cf2eb6"
      },
      "execution_count": 8,
      "outputs": [
        {
          "output_type": "stream",
          "name": "stdout",
          "text": [
            ">>> .index - Indeks wierszy\n",
            "RangeIndex(start=0, stop=7, step=1)\n"
          ]
        }
      ]
    },
    {
      "cell_type": "markdown",
      "source": [
        "## CZĘŚĆ 3: SORTOWANIE DANYCH"
      ],
      "metadata": {
        "id": "irKnwUdWwmZw"
      }
    },
    {
      "cell_type": "code",
      "source": [
        "print(\"1. Sortowanie rosnąco po populacji:\")\n",
        "print(miasta.sort_values(\"Populacja\").head())"
      ],
      "metadata": {
        "colab": {
          "base_uri": "https://localhost:8080/"
        },
        "id": "YI5jg5ebwqtS",
        "outputId": "72daa745-435e-420a-8f17-21a8aa9fd8cb"
      },
      "execution_count": 9,
      "outputs": [
        {
          "output_type": "stream",
          "name": "stdout",
          "text": [
            "1. Sortowanie rosnąco po populacji:\n",
            "     Miasto         Województwo  Populacja  Powierzchnia_km2  Rok_nadania_praw\n",
            "6  Szczecin  zachodniopomorskie     395513               301              1243\n",
            "5    Gdańsk           pomorskie     470907               262              1263\n",
            "4    Poznań       wielkopolskie     532048               262              1253\n",
            "3   Wrocław        dolnośląskie     643782               293              1242\n",
            "2      Łódź             łódzkie     672185               293              1423\n"
          ]
        }
      ]
    },
    {
      "cell_type": "code",
      "source": [
        "print(\"2. Sortowanie malejąco po populacji:\")\n",
        "print(miasta.sort_values(\"Populacja\", ascending=False).head())"
      ],
      "metadata": {
        "colab": {
          "base_uri": "https://localhost:8080/"
        },
        "id": "uV2DJLacwx0-",
        "outputId": "645561df-78ff-4d2d-c802-bd01f5bc6d5c"
      },
      "execution_count": 10,
      "outputs": [
        {
          "output_type": "stream",
          "name": "stdout",
          "text": [
            "2. Sortowanie malejąco po populacji:\n",
            "     Miasto    Województwo  Populacja  Powierzchnia_km2  Rok_nadania_praw\n",
            "0  Warszawa    mazowieckie    1863056               517              1413\n",
            "1    Kraków    małopolskie     779966               327              1257\n",
            "2      Łódź        łódzkie     672185               293              1423\n",
            "3   Wrocław   dolnośląskie     643782               293              1242\n",
            "4    Poznań  wielkopolskie     532048               262              1253\n"
          ]
        }
      ]
    },
    {
      "cell_type": "code",
      "source": [
        "print(\"3. Sortowanie według wielu kolumn:\")\n",
        "print(\"   (Województwo rosnąco, potem Populacja malejąco)\")\n",
        "print(miasta.sort_values([\"Województwo\", \"Populacja\"],\n",
        "                         ascending=[True, False]))"
      ],
      "metadata": {
        "colab": {
          "base_uri": "https://localhost:8080/"
        },
        "id": "6xzmln4Uwx-g",
        "outputId": "9fd2cdae-2919-40fc-c835-aa16dd1b563a"
      },
      "execution_count": 11,
      "outputs": [
        {
          "output_type": "stream",
          "name": "stdout",
          "text": [
            "3. Sortowanie według wielu kolumn:\n",
            "   (Województwo rosnąco, potem Populacja malejąco)\n",
            "     Miasto         Województwo  Populacja  Powierzchnia_km2  Rok_nadania_praw\n",
            "3   Wrocław        dolnośląskie     643782               293              1242\n",
            "0  Warszawa         mazowieckie    1863056               517              1413\n",
            "1    Kraków         małopolskie     779966               327              1257\n",
            "5    Gdańsk           pomorskie     470907               262              1263\n",
            "4    Poznań       wielkopolskie     532048               262              1253\n",
            "6  Szczecin  zachodniopomorskie     395513               301              1243\n",
            "2      Łódź             łódzkie     672185               293              1423\n"
          ]
        }
      ]
    },
    {
      "cell_type": "markdown",
      "source": [
        "## CZĘŚĆ 4: WYBIERANIE KOLUMN"
      ],
      "metadata": {
        "id": "GduuSU2iyOCb"
      }
    },
    {
      "cell_type": "code",
      "source": [
        "print(\"1. Jedna kolumna (zwraca Series):\")\n",
        "print(miasta[\"Miasto\"])\n",
        "print(f\"\\nTyp: {type(miasta['Miasto'])}\")"
      ],
      "metadata": {
        "colab": {
          "base_uri": "https://localhost:8080/"
        },
        "id": "OLz7moDLyTju",
        "outputId": "aec91968-bbf1-4c9a-d00b-1ccaaaf2ab29"
      },
      "execution_count": 12,
      "outputs": [
        {
          "output_type": "stream",
          "name": "stdout",
          "text": [
            "1. Jedna kolumna (zwraca Series):\n",
            "0    Warszawa\n",
            "1      Kraków\n",
            "2        Łódź\n",
            "3     Wrocław\n",
            "4      Poznań\n",
            "5      Gdańsk\n",
            "6    Szczecin\n",
            "Name: Miasto, dtype: object\n",
            "\n",
            "Typ: <class 'pandas.core.series.Series'>\n"
          ]
        }
      ]
    },
    {
      "cell_type": "code",
      "source": [
        "print(\"2. Wiele kolumn (zwraca DataFrame):\")\n",
        "print(miasta[[\"Miasto\", \"Populacja\"]])"
      ],
      "metadata": {
        "colab": {
          "base_uri": "https://localhost:8080/"
        },
        "id": "m2GN0sDEzLV4",
        "outputId": "a630cff5-f071-4113-b602-fcf982bab599"
      },
      "execution_count": 13,
      "outputs": [
        {
          "output_type": "stream",
          "name": "stdout",
          "text": [
            "2. Wiele kolumn (zwraca DataFrame):\n",
            "     Miasto  Populacja\n",
            "0  Warszawa    1863056\n",
            "1    Kraków     779966\n",
            "2      Łódź     672185\n",
            "3   Wrocław     643782\n",
            "4    Poznań     532048\n",
            "5    Gdańsk     470907\n",
            "6  Szczecin     395513\n"
          ]
        }
      ]
    },
    {
      "cell_type": "code",
      "source": [
        "print(\"3. Używanie zmiennej z listą kolumn:\")\n",
        "kolumny_do_wyswietlenia = [\"Miasto\", \"Województwo\", \"Populacja\"]\n",
        "print(miasta[kolumny_do_wyswietlenia])"
      ],
      "metadata": {
        "colab": {
          "base_uri": "https://localhost:8080/"
        },
        "id": "Qo7y0NvjzLfq",
        "outputId": "ab868639-5bf5-4bde-9c9c-708b8bdc94dd"
      },
      "execution_count": 14,
      "outputs": [
        {
          "output_type": "stream",
          "name": "stdout",
          "text": [
            "3. Używanie zmiennej z listą kolumn:\n",
            "     Miasto         Województwo  Populacja\n",
            "0  Warszawa         mazowieckie    1863056\n",
            "1    Kraków         małopolskie     779966\n",
            "2      Łódź             łódzkie     672185\n",
            "3   Wrocław        dolnośląskie     643782\n",
            "4    Poznań       wielkopolskie     532048\n",
            "5    Gdańsk           pomorskie     470907\n",
            "6  Szczecin  zachodniopomorskie     395513\n"
          ]
        }
      ]
    },
    {
      "cell_type": "markdown",
      "source": [
        "## CZĘŚĆ 5: FILTROWANIE WIERSZY"
      ],
      "metadata": {
        "id": "ZfvpWbO936wI"
      }
    },
    {
      "cell_type": "code",
      "source": [
        "print(\"1. Miasta z populacją powyżej 600 000:\")\n",
        "print(miasta[miasta[\"Populacja\"] > 600000])"
      ],
      "metadata": {
        "colab": {
          "base_uri": "https://localhost:8080/"
        },
        "id": "Bfkn1XZe4BGV",
        "outputId": "e4d77cc3-5efe-44ed-a54e-309dbcb36212"
      },
      "execution_count": 15,
      "outputs": [
        {
          "output_type": "stream",
          "name": "stdout",
          "text": [
            "1. Miasta z populacją powyżej 600 000:\n",
            "     Miasto   Województwo  Populacja  Powierzchnia_km2  Rok_nadania_praw\n",
            "0  Warszawa   mazowieckie    1863056               517              1413\n",
            "1    Kraków   małopolskie     779966               327              1257\n",
            "2      Łódź       łódzkie     672185               293              1423\n",
            "3   Wrocław  dolnośląskie     643782               293              1242\n"
          ]
        }
      ]
    },
    {
      "cell_type": "code",
      "source": [
        "print(\"2. Miasta z województwa mazowieckiego:\")\n",
        "print(miasta[miasta[\"Województwo\"] == \"mazowieckie\"])"
      ],
      "metadata": {
        "colab": {
          "base_uri": "https://localhost:8080/"
        },
        "id": "iR3nRDSV4ueV",
        "outputId": "6ed98c5c-c173-41dd-b85b-53bfc9607fde"
      },
      "execution_count": 16,
      "outputs": [
        {
          "output_type": "stream",
          "name": "stdout",
          "text": [
            "2. Miasta z województwa mazowieckiego:\n",
            "     Miasto  Województwo  Populacja  Powierzchnia_km2  Rok_nadania_praw\n",
            "0  Warszawa  mazowieckie    1863056               517              1413\n"
          ]
        }
      ]
    },
    {
      "cell_type": "code",
      "source": [
        "print(\"3. Miasta z prawami miejskimi przed 1300 rokiem:\")\n",
        "print(miasta[miasta[\"Rok_nadania_praw\"] < 1300])"
      ],
      "metadata": {
        "colab": {
          "base_uri": "https://localhost:8080/"
        },
        "id": "zpmyBDG34unI",
        "outputId": "3b99385e-84d9-44f9-e677-ecd75ec7b54a"
      },
      "execution_count": 17,
      "outputs": [
        {
          "output_type": "stream",
          "name": "stdout",
          "text": [
            "3. Miasta z prawami miejskimi przed 1300 rokiem:\n",
            "     Miasto         Województwo  Populacja  Powierzchnia_km2  Rok_nadania_praw\n",
            "1    Kraków         małopolskie     779966               327              1257\n",
            "3   Wrocław        dolnośląskie     643782               293              1242\n",
            "4    Poznań       wielkopolskie     532048               262              1253\n",
            "5    Gdańsk           pomorskie     470907               262              1263\n",
            "6  Szczecin  zachodniopomorskie     395513               301              1243\n"
          ]
        }
      ]
    },
    {
      "cell_type": "code",
      "source": [
        "print(\"4. Złożone warunki z operatorem AND (&):\")\n",
        "print(\"   Miasta powyżej 500k ludności I powierzchnia powyżej 280 km²\")\n",
        "duze_miasta = miasta[(miasta[\"Populacja\"] > 500000) &\n",
        "                     (miasta[\"Powierzchnia_km2\"] > 280)]\n",
        "print(duze_miasta)"
      ],
      "metadata": {
        "colab": {
          "base_uri": "https://localhost:8080/"
        },
        "id": "SpsoLEnS4uqV",
        "outputId": "2d4d9955-cb33-4feb-d065-81e263985961"
      },
      "execution_count": 18,
      "outputs": [
        {
          "output_type": "stream",
          "name": "stdout",
          "text": [
            "4. Złożone warunki z operatorem AND (&):\n",
            "   Miasta powyżej 500k ludności I powierzchnia powyżej 280 km²\n",
            "     Miasto   Województwo  Populacja  Powierzchnia_km2  Rok_nadania_praw\n",
            "0  Warszawa   mazowieckie    1863056               517              1413\n",
            "1    Kraków   małopolskie     779966               327              1257\n",
            "2      Łódź       łódzkie     672185               293              1423\n",
            "3   Wrocław  dolnośląskie     643782               293              1242\n"
          ]
        }
      ]
    },
    {
      "cell_type": "code",
      "source": [
        "print(\"5. Złożone warunki z operatorem OR (|):\")\n",
        "print(\"   Miasta z Warszawy LUB Krakowa\")\n",
        "stolice = miasta[(miasta[\"Miasto\"] == \"Warszawa\") |\n",
        "                 (miasta[\"Miasto\"] == \"Kraków\")]\n",
        "print(stolice)\n"
      ],
      "metadata": {
        "colab": {
          "base_uri": "https://localhost:8080/"
        },
        "id": "TmqT4Q6m4ut0",
        "outputId": "0e45fe43-d820-4592-dfd6-115e98ebd747"
      },
      "execution_count": 19,
      "outputs": [
        {
          "output_type": "stream",
          "name": "stdout",
          "text": [
            "5. Złożone warunki z operatorem OR (|):\n",
            "   Miasta z Warszawy LUB Krakowa\n",
            "     Miasto  Województwo  Populacja  Powierzchnia_km2  Rok_nadania_praw\n",
            "0  Warszawa  mazowieckie    1863056               517              1413\n",
            "1    Kraków  małopolskie     779966               327              1257\n"
          ]
        }
      ]
    },
    {
      "cell_type": "code",
      "source": [
        "print(\"6. Używanie .isin() dla wielu wartości:\")\n",
        "wybrane_miasta = [\"Warszawa\", \"Kraków\", \"Wrocław\"]\n",
        "print(miasta[miasta[\"Miasto\"].isin(wybrane_miasta)])"
      ],
      "metadata": {
        "colab": {
          "base_uri": "https://localhost:8080/"
        },
        "id": "32ljqNJm4uxh",
        "outputId": "f2fed03d-4559-4001-d179-f6572c4c3716"
      },
      "execution_count": 20,
      "outputs": [
        {
          "output_type": "stream",
          "name": "stdout",
          "text": [
            "6. Używanie .isin() dla wielu wartości:\n",
            "     Miasto   Województwo  Populacja  Powierzchnia_km2  Rok_nadania_praw\n",
            "0  Warszawa   mazowieckie    1863056               517              1413\n",
            "1    Kraków   małopolskie     779966               327              1257\n",
            "3   Wrocław  dolnośląskie     643782               293              1242\n"
          ]
        }
      ]
    },
    {
      "cell_type": "markdown",
      "source": [
        "## CZĘŚĆ 6: DODAWANIE NOWYCH KOLUMN"
      ],
      "metadata": {
        "id": "K41DtqKX5wCf"
      }
    },
    {
      "cell_type": "code",
      "source": [
        "print(\"1. Obliczanie gęstości zaludnienia:\")\n",
        "miasta[\"Gęstość_na_km2\"] = miasta[\"Populacja\"] / miasta[\"Powierzchnia_km2\"]\n",
        "print(miasta[[\"Miasto\", \"Populacja\", \"Powierzchnia_km2\", \"Gęstość_na_km2\"]])"
      ],
      "metadata": {
        "colab": {
          "base_uri": "https://localhost:8080/"
        },
        "id": "-jP0P7F05zaj",
        "outputId": "4a19e9cf-9d23-4098-9ef7-b2d03a04a936"
      },
      "execution_count": 21,
      "outputs": [
        {
          "output_type": "stream",
          "name": "stdout",
          "text": [
            "1. Obliczanie gęstości zaludnienia:\n",
            "     Miasto  Populacja  Powierzchnia_km2  Gęstość_na_km2\n",
            "0  Warszawa    1863056               517     3603.589942\n",
            "1    Kraków     779966               327     2385.217125\n",
            "2      Łódź     672185               293     2294.146758\n",
            "3   Wrocław     643782               293     2197.208191\n",
            "4    Poznań     532048               262     2030.717557\n",
            "5    Gdańsk     470907               262     1797.354962\n",
            "6  Szczecin     395513               301     1313.996678\n"
          ]
        }
      ]
    },
    {
      "cell_type": "code",
      "source": [
        "print(\"2. Kategoryzacja miast według wielkości:\")\n",
        "def kategoryzuj_miasto(populacja):\n",
        "    if populacja > 1000000:\n",
        "        return \"Bardzo duże\"\n",
        "    elif populacja > 500000:\n",
        "        return \"Duże\"\n",
        "    else:\n",
        "        return \"Średnie\"\n",
        "\n",
        "miasta[\"Kategoria\"] = miasta[\"Populacja\"].apply(kategoryzuj_miasto)\n",
        "print(miasta[[\"Miasto\", \"Populacja\", \"Kategoria\"]])"
      ],
      "metadata": {
        "colab": {
          "base_uri": "https://localhost:8080/"
        },
        "id": "5pECuBXQ6lzI",
        "outputId": "f498342b-9ccd-4197-e636-3c672dac11f0"
      },
      "execution_count": 22,
      "outputs": [
        {
          "output_type": "stream",
          "name": "stdout",
          "text": [
            "2. Kategoryzacja miast według wielkości:\n",
            "     Miasto  Populacja    Kategoria\n",
            "0  Warszawa    1863056  Bardzo duże\n",
            "1    Kraków     779966         Duże\n",
            "2      Łódź     672185         Duże\n",
            "3   Wrocław     643782         Duże\n",
            "4    Poznań     532048         Duże\n",
            "5    Gdańsk     470907      Średnie\n",
            "6  Szczecin     395513      Średnie\n"
          ]
        }
      ]
    },
    {
      "cell_type": "markdown",
      "source": [
        "# **Zadania**"
      ],
      "metadata": {
        "id": "vHDBpbq16qRt"
      }
    },
    {
      "cell_type": "code",
      "source": [
        "# Dataset do zadań\n",
        "temperatura = pd.DataFrame({\n",
        "    'Miasto': ['Warszawa', 'Kraków', 'Gdańsk', 'Wrocław', 'Poznań', 'Łódź'],\n",
        "    'Styczeń': [-2, -1, 0, -1, -2, -3],\n",
        "    'Kwiecień': [9, 10, 8, 11, 10, 9],\n",
        "    'Lipiec': [19, 20, 17, 21, 19, 20],\n",
        "    'Październik': [9, 9, 10, 10, 9, 8]\n",
        "})\n",
        "\n",
        "print(\"Dataset 'temperatura' - średnie temperatury w polskich miastach:\")\n",
        "print(temperatura)"
      ],
      "metadata": {
        "colab": {
          "base_uri": "https://localhost:8080/"
        },
        "id": "azJ0u_Nm6x-R",
        "outputId": "83cdeda8-b0b8-4856-88ea-c9a0d9c21325"
      },
      "execution_count": 23,
      "outputs": [
        {
          "output_type": "stream",
          "name": "stdout",
          "text": [
            "Dataset 'temperatura' - średnie temperatury w polskich miastach:\n",
            "     Miasto  Styczeń  Kwiecień  Lipiec  Październik\n",
            "0  Warszawa       -2         9      19            9\n",
            "1    Kraków       -1        10      20            9\n",
            "2    Gdańsk        0         8      17           10\n",
            "3   Wrocław       -1        11      21           10\n",
            "4    Poznań       -2        10      19            9\n",
            "5      Łódź       -3         9      20            8\n"
          ]
        }
      ]
    },
    {
      "cell_type": "markdown",
      "source": [
        "## **Zadanie 1: podstawowa inspekcja**\n",
        "\n",
        "Używając DataFrame `temperatura`, wykonaj następujące operacje:\n",
        "\n",
        "a) Wyświetl pierwsze 3 wiersze\n",
        "\n",
        "b) Wyświetl informacje o typach danych (.info())\n",
        "\n",
        "c) Wyświetl kształt DataFrame (.shape)\n",
        "\n",
        "d) Wyświetl tylko nazwy kolumn (.columns)"
      ],
      "metadata": {
        "id": "T9V6fZNC67e0"
      }
    },
    {
      "cell_type": "code",
      "source": [
        "print(temperatura.head(3))\n",
        "print(temperatura.info())\n",
        "print(f\"Liczba wierszy: {temperatura.shape[0]} Liczba kolumn:  {temperatura.shape[1]}\")\n",
        "print(temperatura.columns.tolist())\n"
      ],
      "metadata": {
        "id": "teGLqyvt7MpV",
        "colab": {
          "base_uri": "https://localhost:8080/"
        },
        "outputId": "fcb46a82-00d7-4761-acce-8e1c4923d426"
      },
      "execution_count": 24,
      "outputs": [
        {
          "output_type": "stream",
          "name": "stdout",
          "text": [
            "     Miasto  Styczeń  Kwiecień  Lipiec  Październik\n",
            "0  Warszawa       -2         9      19            9\n",
            "1    Kraków       -1        10      20            9\n",
            "2    Gdańsk        0         8      17           10\n",
            "<class 'pandas.core.frame.DataFrame'>\n",
            "RangeIndex: 6 entries, 0 to 5\n",
            "Data columns (total 5 columns):\n",
            " #   Column       Non-Null Count  Dtype \n",
            "---  ------       --------------  ----- \n",
            " 0   Miasto       6 non-null      object\n",
            " 1   Styczeń      6 non-null      int64 \n",
            " 2   Kwiecień     6 non-null      int64 \n",
            " 3   Lipiec       6 non-null      int64 \n",
            " 4   Październik  6 non-null      int64 \n",
            "dtypes: int64(4), object(1)\n",
            "memory usage: 372.0+ bytes\n",
            "None\n",
            "Liczba wierszy: 6 Liczba kolumn:  5\n",
            "['Miasto', 'Styczeń', 'Kwiecień', 'Lipiec', 'Październik']\n"
          ]
        }
      ]
    },
    {
      "cell_type": "code",
      "source": [],
      "metadata": {
        "id": "1IHol11A7V8l"
      },
      "execution_count": 24,
      "outputs": []
    },
    {
      "cell_type": "markdown",
      "source": [
        "## **Zadanie 2: sortowanie**\n",
        "\n",
        "a) Posortuj miasta według temperatury w lipcu (rosnąco)\n",
        "\n",
        "b) Posortuj miasta według temperatury w styczniu (malejąco)\n",
        "\n",
        "c) Posortuj miasta według temperatury w lipcu (malejąco), a następnie według kwietnia (rosnąco)"
      ],
      "metadata": {
        "id": "kLt64lbF7TQ-"
      }
    },
    {
      "cell_type": "code",
      "source": [
        "print(\"a). Sortowanie według temperatury w lipcu (rosnąco):\")\n",
        "print(temperatura.sort_values(\"Lipiec\", ascending=True).head())\n",
        "print(\"b). Sortowanie według temperatury w styczniu (malejąco):\")\n",
        "print(temperatura.sort_values(\"Styczeń\", ascending=False).head())\n",
        "print(\"c). Sortowanie według temperatury w lipcu (malejąco), a następnie według temperatury w kwietniu (rosnąco):\")\n",
        "print(temperatura.sort_values([\"Lipiec\",\"Kwiecień\"], ascending=[True,False]))"
      ],
      "metadata": {
        "id": "OwuaJUiT78mn",
        "colab": {
          "base_uri": "https://localhost:8080/"
        },
        "outputId": "f448e63e-c0ea-4e78-fea6-1ff0da18e46d"
      },
      "execution_count": 25,
      "outputs": [
        {
          "output_type": "stream",
          "name": "stdout",
          "text": [
            "a). Sortowanie według temperatury w lipcu (rosnąco):\n",
            "     Miasto  Styczeń  Kwiecień  Lipiec  Październik\n",
            "2    Gdańsk        0         8      17           10\n",
            "0  Warszawa       -2         9      19            9\n",
            "4    Poznań       -2        10      19            9\n",
            "1    Kraków       -1        10      20            9\n",
            "5      Łódź       -3         9      20            8\n",
            "b). Sortowanie według temperatury w styczniu (malejąco):\n",
            "     Miasto  Styczeń  Kwiecień  Lipiec  Październik\n",
            "2    Gdańsk        0         8      17           10\n",
            "1    Kraków       -1        10      20            9\n",
            "3   Wrocław       -1        11      21           10\n",
            "0  Warszawa       -2         9      19            9\n",
            "4    Poznań       -2        10      19            9\n",
            "c). Sortowanie według temperatury w lipcu (malejąco), a następnie według temperatury w kwietniu (rosnąco):\n",
            "     Miasto  Styczeń  Kwiecień  Lipiec  Październik\n",
            "2    Gdańsk        0         8      17           10\n",
            "4    Poznań       -2        10      19            9\n",
            "0  Warszawa       -2         9      19            9\n",
            "1    Kraków       -1        10      20            9\n",
            "5      Łódź       -3         9      20            8\n",
            "3   Wrocław       -1        11      21           10\n"
          ]
        }
      ]
    },
    {
      "cell_type": "markdown",
      "source": [
        "## **Zadanie 3: Wybieranie kolumn**\n",
        "\n",
        "a) Wybierz tylko kolumnę 'Miasto' (wynik: Series)\n",
        "\n",
        "b) Wybierz kolumny 'Miasto' i 'Lipiec' (wynik: DataFrame)\n",
        "\n",
        "c) Wybierz kolumny 'Miasto', 'Styczeń' i 'Lipiec', używając zmiennej z listą nazw kolumn"
      ],
      "metadata": {
        "id": "MF4HmRAu8lv7"
      }
    },
    {
      "cell_type": "code",
      "source": [
        "print(\"Series\")\n",
        "print(temperatura[\"Miasto\"])\n",
        "print(f\"\\nTyp: {type(miasta['Miasto'])}\")\n",
        "print(\"DataFrame\")\n",
        "print(temperatura[[\"Miasto\", \"Lipiec\"]])\n",
        "print(f\"\\nTyp: {type(temperatura[[\"Miasto\", \"Lipiec\"]])}\")\n",
        "lista_nazw_kolumn = [\"Miasto\", \"Styczeń\", \"Lipiec\"]\n",
        "print(temperatura[lista_nazw_kolumn])\n"
      ],
      "metadata": {
        "id": "ap_g67I89T2d",
        "colab": {
          "base_uri": "https://localhost:8080/"
        },
        "outputId": "b561a84e-d880-4b93-b899-0882fafe0dce"
      },
      "execution_count": 26,
      "outputs": [
        {
          "output_type": "stream",
          "name": "stdout",
          "text": [
            "Series\n",
            "0    Warszawa\n",
            "1      Kraków\n",
            "2      Gdańsk\n",
            "3     Wrocław\n",
            "4      Poznań\n",
            "5        Łódź\n",
            "Name: Miasto, dtype: object\n",
            "\n",
            "Typ: <class 'pandas.core.series.Series'>\n",
            "DataFrame\n",
            "     Miasto  Lipiec\n",
            "0  Warszawa      19\n",
            "1    Kraków      20\n",
            "2    Gdańsk      17\n",
            "3   Wrocław      21\n",
            "4    Poznań      19\n",
            "5      Łódź      20\n",
            "\n",
            "Typ: <class 'pandas.core.frame.DataFrame'>\n",
            "     Miasto  Styczeń  Lipiec\n",
            "0  Warszawa       -2      19\n",
            "1    Kraków       -1      20\n",
            "2    Gdańsk        0      17\n",
            "3   Wrocław       -1      21\n",
            "4    Poznań       -2      19\n",
            "5      Łódź       -3      20\n"
          ]
        }
      ]
    },
    {
      "cell_type": "markdown",
      "source": [
        "## **Zadanie 4: Filtrowanie**\n",
        "a) Znajdź miasta, gdzie temperatura w lipcu jest większa niż 19 stopni\n",
        "\n",
        "b) Znajdź miasta, gdzie temperatura w styczniu jest większa lub równa -1\n",
        "\n",
        "c) Znajdź miasta, gdzie temperatura w kwietniu wynosi dokładnie 10 stopni\n",
        "\n",
        "d) Znajdź miasta, gdzie temperatura w lipcu jest 20 LUB temperatura w styczniu jest -1"
      ],
      "metadata": {
        "id": "Y4p3GykD9ato"
      }
    },
    {
      "cell_type": "code",
      "source": [
        "print(\"Miasta, gdzie temperatura w lipcu jest większa niż 19 stopni\")\n",
        "print(temperatura[[\"Miasto\", \"Lipiec\"]][temperatura[\"Lipiec\"] > 19])\n",
        "\n",
        "print(\"Miasta, gdzie temperatura w styczniu jest większa lub równa -1\")\n",
        "print(temperatura[[\"Miasto\", \"Styczeń\"]][temperatura[\"Styczeń\"] >= -1])\n",
        "\n",
        "print(\"Miasta, gdzie temperatura w kwietniu wynosi dokładnie 10 stopni\")\n",
        "print(temperatura[[\"Miasto\",\"Kwiecień\"]][temperatura[\"Kwiecień\"] == 10])\n",
        "\n",
        "print(\"Miasta, gdzie temperatura w lipcu jest 20 lub temperatura w styczniu jest -1\")\n",
        "print(temperatura[[\"Miasto\", \"Lipiec\", \"Styczeń\"]][(temperatura[\"Lipiec\"] == 20) | (temperatura[\"Styczeń\"] == -1)])"
      ],
      "metadata": {
        "id": "MuNaWxTp9xwS",
        "colab": {
          "base_uri": "https://localhost:8080/"
        },
        "outputId": "520ee4f2-f814-42c8-80c9-642e3e423d77"
      },
      "execution_count": 27,
      "outputs": [
        {
          "output_type": "stream",
          "name": "stdout",
          "text": [
            "Miasta, gdzie temperatura w lipcu jest większa niż 19 stopni\n",
            "    Miasto  Lipiec\n",
            "1   Kraków      20\n",
            "3  Wrocław      21\n",
            "5     Łódź      20\n",
            "Miasta, gdzie temperatura w styczniu jest większa lub równa -1\n",
            "    Miasto  Styczeń\n",
            "1   Kraków       -1\n",
            "2   Gdańsk        0\n",
            "3  Wrocław       -1\n",
            "Miasta, gdzie temperatura w kwietniu wynosi dokładnie 10 stopni\n",
            "   Miasto  Kwiecień\n",
            "1  Kraków        10\n",
            "4  Poznań        10\n",
            "Miasta, gdzie temperatura w lipcu jest 20 lub temperatura w styczniu jest -1\n",
            "    Miasto  Lipiec  Styczeń\n",
            "1   Kraków      20       -1\n",
            "3  Wrocław      21       -1\n",
            "5     Łódź      20       -3\n"
          ]
        }
      ]
    },
    {
      "cell_type": "markdown",
      "source": [
        "## **Zadanie 5: Złożone filtrowanie**\n",
        "a) Znajdź miasta, gdzie temperatura w lipcu > 18 ORAZ w styczniu >= -2\n",
        "\n",
        "b) Znajdź miasta: 'Warszawa', 'Kraków', 'Gdańsk'\n",
        "\n",
        "c) Znajdź miasta, gdzie temperatura w lipcu jest między 18 a 20 stopni (włącznie)"
      ],
      "metadata": {
        "id": "NFSh_sgt9yS8"
      }
    },
    {
      "cell_type": "code",
      "source": [
        "print(\"Miasta, gdzie temperatura w lipcu jest większa niż 18 stopni oraz w styczniu mniejsza lub równa -2\")\n",
        "print(temperatura[[\"Miasto\", \"Lipiec\", \"Styczeń\"]][(temperatura[\"Lipiec\"] > 18) & (temperatura[\"Styczeń\"] <= -2)])\n",
        "\n",
        "print(\"Miasta: Warszawa, Kraków, Gdańsk\")\n",
        "print(temperatura[temperatura[\"Miasto\"].isin([\"Warszawa\", \"Kraków\", \"Gdańsk\"])])\n",
        "\n",
        "print(\"Miasta, gdzie temperatura w lipcu jest między 18 a 20 stopni (włącznie)\")\n",
        "print(temperatura[[\"Miasto\",\"Lipiec\"]][(temperatura[\"Lipiec\"] >= 18) & (temperatura[\"Lipiec\"] <= 20)])"
      ],
      "metadata": {
        "id": "C9hpjCIO-zeH",
        "colab": {
          "base_uri": "https://localhost:8080/"
        },
        "outputId": "1b3fa0a6-3a69-4cfa-f83e-8b6ca069df11"
      },
      "execution_count": 28,
      "outputs": [
        {
          "output_type": "stream",
          "name": "stdout",
          "text": [
            "Miasta, gdzie temperatura w lipcu jest większa niż 18 stopni oraz w styczniu mniejsza lub równa -2\n",
            "     Miasto  Lipiec  Styczeń\n",
            "0  Warszawa      19       -2\n",
            "4    Poznań      19       -2\n",
            "5      Łódź      20       -3\n",
            "Miasta: Warszawa, Kraków, Gdańsk\n",
            "     Miasto  Styczeń  Kwiecień  Lipiec  Październik\n",
            "0  Warszawa       -2         9      19            9\n",
            "1    Kraków       -1        10      20            9\n",
            "2    Gdańsk        0         8      17           10\n",
            "Miasta, gdzie temperatura w lipcu jest między 18 a 20 stopni (włącznie)\n",
            "     Miasto  Lipiec\n",
            "0  Warszawa      19\n",
            "1    Kraków      20\n",
            "4    Poznań      19\n",
            "5      Łódź      20\n"
          ]
        }
      ]
    },
    {
      "cell_type": "markdown",
      "source": [
        "## **Zadanie 6: Dodawanie nowych kolumn**\n",
        "a) Dodaj kolumnę 'Średnia_roczna' - średnia z wszystkich miesięcy\n",
        "\n",
        "b) Dodaj kolumnę 'Amplituda' - różnica między lipcem a styczniem\n",
        "\n",
        "c) Dodaj kolumnę 'Ciepłe_miasto' (True jeśli średnia roczna > 11, False w przeciwnym razie)"
      ],
      "metadata": {
        "id": "kRkFnU3Y-1nD"
      }
    },
    {
      "cell_type": "code",
      "source": [
        "temperatura[\"Średnia_roczna\"] = (temperatura[\"Styczeń\"] + temperatura[\"Kwiecień\"] + temperatura[\"Lipiec\"] + temperatura[\"Październik\"]) / 4\n",
        "\n",
        "\n",
        "def licz_amplitude(temperatura):\n",
        "  temperatury = [temperatura[\"Styczeń\"], temperatura[\"Kwiecień\"], temperatura[\"Lipiec\"], temperatura[\"Październik\"]]\n",
        "  return max(temperatury) - min(temperatury)\n",
        "temperatura[\"Amplituda\"] = temperatura.apply(licz_amplitude, axis=1)\n",
        "\n",
        "def czy_ciepłe(temperatura):\n",
        "  if temperatura[\"Średnia_roczna\"] > 11:\n",
        "    return True\n",
        "  else:\n",
        "    return False\n",
        "temperatura[\"Ciepłe_miasto\"] = temperatura.apply(czy_ciepłe, axis=1)\n",
        "\n",
        "print(temperatura)\n"
      ],
      "metadata": {
        "id": "4FHpDciR-RMn",
        "colab": {
          "base_uri": "https://localhost:8080/"
        },
        "outputId": "ea2a8aef-02a3-47f0-a4db-07e477a6aa8b"
      },
      "execution_count": 29,
      "outputs": [
        {
          "output_type": "stream",
          "name": "stdout",
          "text": [
            "     Miasto  Styczeń  Kwiecień  Lipiec  Październik  Średnia_roczna  \\\n",
            "0  Warszawa       -2         9      19            9            8.75   \n",
            "1    Kraków       -1        10      20            9            9.50   \n",
            "2    Gdańsk        0         8      17           10            8.75   \n",
            "3   Wrocław       -1        11      21           10           10.25   \n",
            "4    Poznań       -2        10      19            9            9.00   \n",
            "5      Łódź       -3         9      20            8            8.50   \n",
            "\n",
            "   Amplituda  Ciepłe_miasto  \n",
            "0         21          False  \n",
            "1         21          False  \n",
            "2         17          False  \n",
            "3         22          False  \n",
            "4         21          False  \n",
            "5         23          False  \n"
          ]
        }
      ]
    },
    {
      "cell_type": "markdown",
      "source": [
        "## **Zadanie: zaawansowane**\n",
        "\n",
        "\n",
        "```\n",
        "# Nowy dataset dla zaawansowanego zadania\n",
        "wyniki_egzaminy = pd.DataFrame({\n",
        "    'Student': ['Anna', 'Bartek', 'Celina', 'Damian', 'Ewa', 'Filip', 'Gabriela', 'Hubert'],\n",
        "    'Matematyka': [85, 92, 78, 88, 95, 72, 89, 81],\n",
        "    'Fizyka': [78, 88, 82, 75, 91, 68, 85, 79],\n",
        "    'Informatyka': [92, 85, 88, 90, 89, 95, 82, 87],\n",
        "    'Kierunek': ['Informatyka', 'Fizyka', 'Matematyka', 'Informatyka',\n",
        "                 'Matematyka', 'Informatyka', 'Fizyka', 'Matematyka']\n",
        "})\n",
        "```\n",
        "\n",
        "\n",
        "\n",
        "\n",
        "\n",
        "a) Dodaj kolumnę 'Średnia' z wyników z trzech przedmiotów\n",
        "\n",
        "b) Dodaj kolumnę 'Status' - 'Zaliczony' jeśli średnia >= 85, 'Niezaliczony' w przeciwnym razie\n",
        "\n",
        "c) Dla każdego kierunku znajdź studenta z najwyższą średnią:\n",
        "   - Przefiltruj po kierunku\n",
        "   - Posortuj według średniej malejąco\n",
        "   - Weź pierwszy wiersz\n",
        "   - Wykonaj dla każdego z 3 kierunków\n",
        "\n",
        "d) Znajdź wszystkich studentów informatyki, którzy mają średnią >= 85\n",
        "   i wynik z informatyki >= 90, posortowanych według średniej malejąco"
      ],
      "metadata": {
        "id": "nGOMr7Y1_88K"
      }
    },
    {
      "cell_type": "code",
      "source": [
        "wyniki_egzaminy = pd.DataFrame({\n",
        "    'Student': ['Anna', 'Bartek', 'Celina', 'Damian', 'Ewa', 'Filip', 'Gabriela', 'Hubert'],\n",
        "    'Matematyka': [85, 92, 78, 88, 95, 72, 89, 81],\n",
        "    'Fizyka': [78, 88, 82, 75, 91, 68, 85, 79],\n",
        "    'Informatyka': [92, 85, 88, 90, 89, 95, 82, 87],\n",
        "    'Kierunek': ['Informatyka', 'Fizyka', 'Matematyka', 'Informatyka',\n",
        "                 'Matematyka', 'Informatyka', 'Fizyka', 'Matematyka']\n",
        "})\n",
        "\n",
        "print(wyniki_egzaminy)"
      ],
      "metadata": {
        "id": "Jt-Mt0sPAwlr",
        "colab": {
          "base_uri": "https://localhost:8080/"
        },
        "outputId": "f070b9bb-b40d-4ef4-e510-cb89d848b48a"
      },
      "execution_count": 30,
      "outputs": [
        {
          "output_type": "stream",
          "name": "stdout",
          "text": [
            "    Student  Matematyka  Fizyka  Informatyka     Kierunek\n",
            "0      Anna          85      78           92  Informatyka\n",
            "1    Bartek          92      88           85       Fizyka\n",
            "2    Celina          78      82           88   Matematyka\n",
            "3    Damian          88      75           90  Informatyka\n",
            "4       Ewa          95      91           89   Matematyka\n",
            "5     Filip          72      68           95  Informatyka\n",
            "6  Gabriela          89      85           82       Fizyka\n",
            "7    Hubert          81      79           87   Matematyka\n"
          ]
        }
      ]
    },
    {
      "cell_type": "code",
      "source": [
        "wyniki_egzaminy[\"Średnia\"] = ((wyniki_egzaminy[\"Matematyka\"] + wyniki_egzaminy['Fizyka'] + wyniki_egzaminy['Informatyka']) / 3).round(1)\n",
        "print(wyniki_egzaminy)"
      ],
      "metadata": {
        "colab": {
          "base_uri": "https://localhost:8080/"
        },
        "id": "tLo19l5Egyzg",
        "outputId": "c05058ae-8543-4567-e23a-2fc9d191047e"
      },
      "execution_count": 31,
      "outputs": [
        {
          "output_type": "stream",
          "name": "stdout",
          "text": [
            "    Student  Matematyka  Fizyka  Informatyka     Kierunek  Średnia\n",
            "0      Anna          85      78           92  Informatyka     85.0\n",
            "1    Bartek          92      88           85       Fizyka     88.3\n",
            "2    Celina          78      82           88   Matematyka     82.7\n",
            "3    Damian          88      75           90  Informatyka     84.3\n",
            "4       Ewa          95      91           89   Matematyka     91.7\n",
            "5     Filip          72      68           95  Informatyka     78.3\n",
            "6  Gabriela          89      85           82       Fizyka     85.3\n",
            "7    Hubert          81      79           87   Matematyka     82.3\n"
          ]
        }
      ]
    },
    {
      "cell_type": "code",
      "source": [
        "def licz_status(wyniki_egzaminy):\n",
        "  if wyniki_egzaminy[\"Średnia\"] >= 85:\n",
        "    return \"Zaliczony\"\n",
        "  else:\n",
        "    return \"Niezaliczony\"\n",
        "\n",
        "wyniki_egzaminy[\"Status\"] = wyniki_egzaminy.apply(licz_status, axis=1)\n",
        "print(wyniki_egzaminy)"
      ],
      "metadata": {
        "colab": {
          "base_uri": "https://localhost:8080/"
        },
        "id": "hKnSen6fhL75",
        "outputId": "e076ba5b-4415-42fa-be6a-60cb7e782ddd"
      },
      "execution_count": 32,
      "outputs": [
        {
          "output_type": "stream",
          "name": "stdout",
          "text": [
            "    Student  Matematyka  Fizyka  Informatyka     Kierunek  Średnia  \\\n",
            "0      Anna          85      78           92  Informatyka     85.0   \n",
            "1    Bartek          92      88           85       Fizyka     88.3   \n",
            "2    Celina          78      82           88   Matematyka     82.7   \n",
            "3    Damian          88      75           90  Informatyka     84.3   \n",
            "4       Ewa          95      91           89   Matematyka     91.7   \n",
            "5     Filip          72      68           95  Informatyka     78.3   \n",
            "6  Gabriela          89      85           82       Fizyka     85.3   \n",
            "7    Hubert          81      79           87   Matematyka     82.3   \n",
            "\n",
            "         Status  \n",
            "0     Zaliczony  \n",
            "1     Zaliczony  \n",
            "2  Niezaliczony  \n",
            "3  Niezaliczony  \n",
            "4     Zaliczony  \n",
            "5  Niezaliczony  \n",
            "6     Zaliczony  \n",
            "7  Niezaliczony  \n"
          ]
        }
      ]
    },
    {
      "cell_type": "code",
      "source": [
        "lista_kierunkow = wyniki_egzaminy[\"Kierunek\"].unique()\n",
        "for kierunek in lista_kierunkow:\n",
        "  print(wyniki_egzaminy[wyniki_egzaminy[\"Kierunek\"] == kierunek].sort_values(\"Średnia\", ascending=False).head(1))\n"
      ],
      "metadata": {
        "colab": {
          "base_uri": "https://localhost:8080/"
        },
        "id": "6CYjM88zh3GK",
        "outputId": "33645648-1972-4eb5-d2c5-3c67ac260e23"
      },
      "execution_count": 33,
      "outputs": [
        {
          "output_type": "stream",
          "name": "stdout",
          "text": [
            "  Student  Matematyka  Fizyka  Informatyka     Kierunek  Średnia     Status\n",
            "0    Anna          85      78           92  Informatyka     85.0  Zaliczony\n",
            "  Student  Matematyka  Fizyka  Informatyka Kierunek  Średnia     Status\n",
            "1  Bartek          92      88           85   Fizyka     88.3  Zaliczony\n",
            "  Student  Matematyka  Fizyka  Informatyka    Kierunek  Średnia     Status\n",
            "4     Ewa          95      91           89  Matematyka     91.7  Zaliczony\n"
          ]
        }
      ]
    },
    {
      "cell_type": "code",
      "source": [
        "print(wyniki_egzaminy[(wyniki_egzaminy[\"Kierunek\"] == \"Informatyka\") & (wyniki_egzaminy[\"Średnia\"] >= 85) & (wyniki_egzaminy[\"Informatyka\"] >= 90)].sort_values(\"Średnia\", ascending=False))\n"
      ],
      "metadata": {
        "colab": {
          "base_uri": "https://localhost:8080/"
        },
        "id": "xVPDPlxmjOu8",
        "outputId": "5665571e-88b4-4213-eb15-59ab165e31e2"
      },
      "execution_count": 41,
      "outputs": [
        {
          "output_type": "stream",
          "name": "stdout",
          "text": [
            "  Student  Matematyka  Fizyka  Informatyka     Kierunek  Średnia     Status\n",
            "0    Anna          85      78           92  Informatyka     85.0  Zaliczony\n"
          ]
        }
      ]
    }
  ]
}